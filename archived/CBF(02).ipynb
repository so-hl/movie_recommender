{
 "cells": [
  {
   "cell_type": "code",
   "execution_count": 1,
   "id": "8e4ea0ce-1132-4a9d-81c0-3ae14c8c34eb",
   "metadata": {},
   "outputs": [],
   "source": [
    "import pandas as pd\n",
    "from sentence_transformers import SentenceTransformer\n",
    "from sklearn.metrics.pairwise import cosine_similarity\n",
    "import numpy as np"
   ]
  },
  {
   "cell_type": "code",
   "execution_count": 2,
   "id": "62db1c59-aa4e-4386-a6f6-73e2eab09beb",
   "metadata": {},
   "outputs": [
    {
     "name": "stdout",
     "output_type": "stream",
     "text": [
      "   movieId                               title  \\\n",
      "0        1                    Toy Story (1995)   \n",
      "1        2                      Jumanji (1995)   \n",
      "2        3             Grumpier Old Men (1995)   \n",
      "3        4            Waiting to Exhale (1995)   \n",
      "4        5  Father of the Bride Part II (1995)   \n",
      "\n",
      "                                        genres  \\\n",
      "0  Adventure|Animation|Children|Comedy|Fantasy   \n",
      "1                   Adventure|Children|Fantasy   \n",
      "2                               Comedy|Romance   \n",
      "3                         Comedy|Drama|Romance   \n",
      "4                                       Comedy   \n",
      "\n",
      "                                                 tag  \\\n",
      "0  dead battery ramp loyal friend mr. potato head...   \n",
      "1  endless screaming earthquake wooden chest turn...   \n",
      "2  Jack Lemmon midwest old man Walter Matthau old...   \n",
      "3  based on novel or book divorce single mother r...   \n",
      "4  confidence comedy sentimental 4th wall midlife...   \n",
      "\n",
      "                                         description  \n",
      "0  Adventure|Animation|Children|Comedy|Fantasy de...  \n",
      "1  Adventure|Children|Fantasy endless screaming e...  \n",
      "2  Comedy|Romance Jack Lemmon midwest old man Wal...  \n",
      "3  Comedy|Drama|Romance based on novel or book di...  \n",
      "4  Comedy confidence comedy sentimental 4th wall ...  \n",
      "Movies similar to Toy Story (1995):\n",
      "                       title                                            genres\n",
      "60708     Toy Story 4 (2019)               Adventure|Animation|Children|Comedy\n",
      "3021      Toy Story 2 (1999)       Adventure|Animation|Children|Comedy|Fantasy\n",
      "14815     Toy Story 3 (2010)  Adventure|Animation|Children|Comedy|Fantasy|IMAX\n",
      "13363              Up (2009)                Adventure|Animation|Children|Drama\n",
      "10640  Curious George (2006)               Adventure|Animation|Children|Comedy\n"
     ]
    }
   ],
   "source": [
    "# Configurations\n",
    "data_path = \"/Users/leebennett/Downloads/ml-32m/\"\n",
    "\n",
    "# Load Data\n",
    "movies = pd.read_csv(data_path + \"movies.csv\")\n",
    "tags = pd.read_csv(data_path + \"tags.csv\")\n",
    "\n",
    "# Clean and prepare Tags\n",
    "# Ensure all tags are strings and handle NaNs explicitly\n",
    "tags['tag'] = tags['tag'].astype(str)\n",
    "tags['tag'] = tags.groupby('movieId')['tag'].transform(lambda x: ' '.join(set(x)))\n",
    "tags = tags[['movieId', 'tag']].drop_duplicates()\n",
    "\n",
    "# Merge tags with movies\n",
    "movies = movies.merge(tags, on='movieId', how='left')\n",
    "# Replace NaNs in 'tag' with empty strings directly\n",
    "movies['tag'] = movies['tag'].fillna('')\n",
    "\n",
    "# Create a new column in movies DataFrame to hold combined descriptions\n",
    "movies['description'] = movies['genres'] + \" \" + movies['tag']\n",
    "\n",
    "# Print some data to check everything loaded correctly\n",
    "print(movies.head())\n",
    "\n",
    "# Initialize Sentence Transformer Model and generate embeddings\n",
    "model = SentenceTransformer('all-MiniLM-L6-v2')\n",
    "movie_descriptions = movies['description'].tolist()\n",
    "embeddings = model.encode(movie_descriptions, normalize_embeddings=True)\n",
    "\n",
    "# Save embeddings for later use (optional)\n",
    "np.save(data_path + \"movie_embeddings.npy\", embeddings)\n",
    "\n",
    "# Calculate cosine similarity matrix\n",
    "similarity_matrix = cosine_similarity(embeddings)\n",
    "\n",
    "# Function to find similar movies based on cosine similarity\n",
    "def get_similar_movies(movie_title, top_n=5):\n",
    "    try:\n",
    "        # Use .str.contains() to allow partial matching\n",
    "        matched_movies = movies[movies['title'].str.contains(movie_title, case=False, regex=False)]\n",
    "        \n",
    "        if matched_movies.empty:\n",
    "            return f\"No movie found with title containing '{movie_title}'.\"\n",
    "\n",
    "        movie_idx = matched_movies.index[0]  # Get the first match\n",
    "\n",
    "    except IndexError:\n",
    "        return f\"No movie found with title '{movie_title}'.\"\n",
    "\n",
    "    sim_scores = list(enumerate(similarity_matrix[movie_idx]))\n",
    "    sim_scores = sorted(sim_scores, key=lambda x: x[1], reverse=True)[1:top_n+1]\n",
    "    top_similar_indices = [i[0] for i in sim_scores]\n",
    "    similar_movies = movies.iloc[top_similar_indices][['title', 'genres']]\n",
    "    return similar_movies\n",
    "\n",
    "# Example usage: Get top 5 similar movies for a given movie\n",
    "example_movie = 'Toy Story (1995)'  # Change this to any movie title in the dataset\n",
    "similar_movies = get_similar_movies(example_movie, 5)\n",
    "print(f\"Movies similar to {example_movie}:\")\n",
    "print(similar_movies)"
   ]
  },
  {
   "cell_type": "code",
   "execution_count": 3,
   "id": "844bca0b-0ae6-45d1-a72e-3e0b06f7f7a3",
   "metadata": {},
   "outputs": [
    {
     "name": "stdin",
     "output_type": "stream",
     "text": [
      "Enter a movie title to find similar movies:  Father of the bride\n"
     ]
    },
    {
     "name": "stdout",
     "output_type": "stream",
     "text": [
      "User entered: Father of the bride\n",
      "Movies similar to 'Father of the bride':\n",
      "                                 title          genres\n",
      "6820        Father of the Bride (1991)          Comedy\n",
      "10044  Father's Little Dividend (1951)  Comedy|Romance\n",
      "28221  The Day I Saw Your Heart (2011)    Comedy|Drama\n",
      "3429                 Parenthood (1989)    Comedy|Drama\n",
      "15735                  One Week (1920)          Comedy\n"
     ]
    }
   ],
   "source": [
    "# Prompt user to enter a movie title\n",
    "user_movie_input = input(\"Enter a movie title to find similar movies: \")\n",
    "print(f\"User entered: {user_movie_input}\")\n",
    "\n",
    "similar_movies = get_similar_movies(user_movie_input, 5)\n",
    "\n",
    "print(f\"Movies similar to '{user_movie_input}':\")\n",
    "print(similar_movies)"
   ]
  }
 ],
 "metadata": {
  "kernelspec": {
   "display_name": "Python 3 (ipykernel)",
   "language": "python",
   "name": "python3"
  },
  "language_info": {
   "codemirror_mode": {
    "name": "ipython",
    "version": 3
   },
   "file_extension": ".py",
   "mimetype": "text/x-python",
   "name": "python",
   "nbconvert_exporter": "python",
   "pygments_lexer": "ipython3",
   "version": "3.13.2"
  }
 },
 "nbformat": 4,
 "nbformat_minor": 5
}
