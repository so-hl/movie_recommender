{
 "cells": [
  {
   "cell_type": "markdown",
   "metadata": {},
   "source": [
    "1) neural collaborative filtering\n",
    "\n",
    "trad cf assumes interactions between users and items follow a linear pattern\n",
    "\n",
    "but ncf assumes nonlinear rship by learning user and movie embeddings through MLP (multi-layer perceptron)\n",
    "\n",
    "input layer: user, movie embeddings (vectors)\n",
    "\n",
    "hidden layers: concatenate user and movie embeddings, pass through MLP layers, learn nonlinear rship\n",
    "\n",
    "output layer: rating prediction or prob score of whether user likes the movie"
   ]
  },
  {
   "cell_type": "markdown",
   "metadata": {},
   "source": [
    "1. Load and preprocess data"
   ]
  },
  {
   "cell_type": "code",
   "execution_count": 1,
   "metadata": {},
   "outputs": [
    {
     "name": "stdout",
     "output_type": "stream",
     "text": [
      "Requirement already satisfied: torch in /Users/maryamseraj/opt/anaconda3/lib/python3.8/site-packages (2.2.2)\n",
      "Requirement already satisfied: typing-extensions>=4.8.0 in /Users/maryamseraj/opt/anaconda3/lib/python3.8/site-packages (from torch) (4.12.2)\n",
      "Requirement already satisfied: fsspec in /Users/maryamseraj/opt/anaconda3/lib/python3.8/site-packages (from torch) (0.8.3)\n",
      "Requirement already satisfied: jinja2 in /Users/maryamseraj/opt/anaconda3/lib/python3.8/site-packages (from torch) (2.11.2)\n",
      "Requirement already satisfied: sympy in /Users/maryamseraj/opt/anaconda3/lib/python3.8/site-packages (from torch) (1.6.2)\n",
      "Requirement already satisfied: filelock in /Users/maryamseraj/opt/anaconda3/lib/python3.8/site-packages (from torch) (3.0.12)\n",
      "Requirement already satisfied: networkx in /Users/maryamseraj/opt/anaconda3/lib/python3.8/site-packages (from torch) (2.5)\n",
      "Requirement already satisfied: MarkupSafe>=0.23 in /Users/maryamseraj/opt/anaconda3/lib/python3.8/site-packages (from jinja2->torch) (1.1.1)\n",
      "Requirement already satisfied: mpmath>=0.19 in /Users/maryamseraj/opt/anaconda3/lib/python3.8/site-packages (from sympy->torch) (1.1.0)\n",
      "Requirement already satisfied: decorator>=4.3.0 in /Users/maryamseraj/opt/anaconda3/lib/python3.8/site-packages (from networkx->torch) (4.4.2)\n",
      "Note: you may need to restart the kernel to use updated packages.\n"
     ]
    }
   ],
   "source": [
    "pip install torch"
   ]
  },
  {
   "cell_type": "code",
   "execution_count": 2,
   "metadata": {},
   "outputs": [],
   "source": [
    "# Install required libraries\n",
    "import pandas as pd\n",
    "import torch\n",
    "import torch.nn as nn\n",
    "import torch.optim as optim\n",
    "import matplotlib.pyplot as plt\n",
    "from torch.utils.data import DataLoader, Dataset"
   ]
  },
  {
   "cell_type": "code",
   "execution_count": 3,
   "metadata": {},
   "outputs": [],
   "source": [
    "# Load ratings data\n",
    "ratings = pd.read_csv(\"ratings.csv\")  # columns: userId, movieId, rating, timestamp"
   ]
  },
  {
   "cell_type": "code",
   "execution_count": 4,
   "metadata": {},
   "outputs": [
    {
     "data": {
      "text/html": [
       "<div>\n",
       "<style scoped>\n",
       "    .dataframe tbody tr th:only-of-type {\n",
       "        vertical-align: middle;\n",
       "    }\n",
       "\n",
       "    .dataframe tbody tr th {\n",
       "        vertical-align: top;\n",
       "    }\n",
       "\n",
       "    .dataframe thead th {\n",
       "        text-align: right;\n",
       "    }\n",
       "</style>\n",
       "<table border=\"1\" class=\"dataframe\">\n",
       "  <thead>\n",
       "    <tr style=\"text-align: right;\">\n",
       "      <th></th>\n",
       "      <th>userId</th>\n",
       "      <th>movieId</th>\n",
       "      <th>rating</th>\n",
       "      <th>timestamp</th>\n",
       "    </tr>\n",
       "  </thead>\n",
       "  <tbody>\n",
       "    <tr>\n",
       "      <th>0</th>\n",
       "      <td>1</td>\n",
       "      <td>1</td>\n",
       "      <td>4.0</td>\n",
       "      <td>964982703</td>\n",
       "    </tr>\n",
       "    <tr>\n",
       "      <th>1</th>\n",
       "      <td>1</td>\n",
       "      <td>3</td>\n",
       "      <td>4.0</td>\n",
       "      <td>964981247</td>\n",
       "    </tr>\n",
       "    <tr>\n",
       "      <th>2</th>\n",
       "      <td>1</td>\n",
       "      <td>6</td>\n",
       "      <td>4.0</td>\n",
       "      <td>964982224</td>\n",
       "    </tr>\n",
       "    <tr>\n",
       "      <th>3</th>\n",
       "      <td>1</td>\n",
       "      <td>47</td>\n",
       "      <td>5.0</td>\n",
       "      <td>964983815</td>\n",
       "    </tr>\n",
       "    <tr>\n",
       "      <th>4</th>\n",
       "      <td>1</td>\n",
       "      <td>50</td>\n",
       "      <td>5.0</td>\n",
       "      <td>964982931</td>\n",
       "    </tr>\n",
       "  </tbody>\n",
       "</table>\n",
       "</div>"
      ],
      "text/plain": [
       "   userId  movieId  rating  timestamp\n",
       "0       1        1     4.0  964982703\n",
       "1       1        3     4.0  964981247\n",
       "2       1        6     4.0  964982224\n",
       "3       1       47     5.0  964983815\n",
       "4       1       50     5.0  964982931"
      ]
     },
     "execution_count": 4,
     "metadata": {},
     "output_type": "execute_result"
    }
   ],
   "source": [
    "# Display first entries from ratings\n",
    "ratings.head()"
   ]
  },
  {
   "cell_type": "code",
   "execution_count": 5,
   "metadata": {},
   "outputs": [],
   "source": [
    "# Drop timestamp column\n",
    "ratings = ratings.drop(columns=[\"timestamp\"])"
   ]
  },
  {
   "cell_type": "code",
   "execution_count": 6,
   "metadata": {},
   "outputs": [],
   "source": [
    "# Encode user and movie IDs as categorical indices\n",
    "user_ids = ratings[\"userId\"].unique()\n",
    "movie_ids = ratings[\"movieId\"].unique()\n",
    "\n",
    "user2idx = {user: idx for idx, user in enumerate(user_ids)}\n",
    "movie2idx = {movie: idx for idx, movie in enumerate(movie_ids)}\n",
    "\n",
    "ratings[\"userId\"] = ratings[\"userId\"].map(user2idx)\n",
    "ratings[\"movieId\"] = ratings[\"movieId\"].map(movie2idx)\n",
    "\n",
    "num_users = len(user2idx)\n",
    "num_movies = len(movie2idx)"
   ]
  },
  {
   "cell_type": "code",
   "execution_count": 7,
   "metadata": {},
   "outputs": [
    {
     "name": "stdout",
     "output_type": "stream",
     "text": [
      "Number of users: 610, Number of movies: 9724\n"
     ]
    }
   ],
   "source": [
    "# Display number of users and number of movies\n",
    "print(f\"Number of users: {num_users}, Number of movies: {num_movies}\")"
   ]
  },
  {
   "cell_type": "markdown",
   "metadata": {},
   "source": [
    "2. NCF Model"
   ]
  },
  {
   "cell_type": "code",
   "execution_count": 8,
   "metadata": {},
   "outputs": [],
   "source": [
    "class NCF(nn.Module):\n",
    "    '''\n",
    "    Neural Collaborative Filtering (NCF) model.\n",
    "    Inherits from nn.Module (class): Base class for all neural network modules.\n",
    "    '''\n",
    "    def __init__(self, num_users, num_movies, embedding_dim=32, hidden_dims=[64, 32]):\n",
    "        '''\n",
    "        Initialise the NCF model.\n",
    "        Args:\n",
    "            num_users (int): Number of unique users.\n",
    "            num_movies (int): Number of unique movies.\n",
    "            embedding_dim (int, optional): Dimensionality of user and movie embeddings. Defaults to 32.\n",
    "            hidden_dims (list, optional): List of hidden layer dimensions for the MLP. Defaults to [64, 32].\n",
    "        '''\n",
    "        super(NCF, self).__init__()\n",
    "        self.user_embedding = nn.Embedding(num_users, embedding_dim)\n",
    "        self.movie_embedding = nn.Embedding(num_movies, embedding_dim)\n",
    "        layers = []\n",
    "        input_dim = embedding_dim * 2  # Concatenated user-movie embeddings\n",
    "        for dim in hidden_dims:\n",
    "            layers.append(nn.Linear(input_dim, dim))\n",
    "            layers.append(nn.ReLU())\n",
    "            input_dim = dim\n",
    "        layers.append(nn.Linear(input_dim, 1))  # Output layer\n",
    "        self.mlp = nn.Sequential(*layers)\n",
    "\n",
    "    def forward(self, user_ids, movie_ids):\n",
    "        '''\n",
    "        Forward pass of the NCF model.\n",
    "        Args:\n",
    "            user_ids (torch.Tensor): Tensor of user IDs.\n",
    "            movie_ids (torch.Tensor): Tensor of movie IDs.\n",
    "        Returns:\n",
    "            torch.Tensor: Predicted ratings.\n",
    "        '''\n",
    "        user_emb = self.user_embedding(user_ids)\n",
    "        movie_emb = self.movie_embedding(movie_ids)\n",
    "        x = torch.cat([user_emb, movie_emb], dim=-1)\n",
    "        return self.mlp(x).squeeze()"
   ]
  },
  {
   "cell_type": "markdown",
   "metadata": {},
   "source": [
    "3. Fine-tuning ncf  \n",
    "- pretrain (train on large dataset of movie interactions)  \n",
    "\n",
    "fine tune:  \n",
    "- adjust embedding layers separately for frequent vs infrequent users  \n",
    "- freeze earlier layers and train only later MLP layers on smaller datasets"
   ]
  },
  {
   "cell_type": "code",
   "execution_count": 9,
   "metadata": {},
   "outputs": [
    {
     "name": "stdout",
     "output_type": "stream",
     "text": [
      "<class 'pandas.core.frame.DataFrame'>\n"
     ]
    }
   ],
   "source": [
    "print(type(ratings)) # confirming ratings remains a dataframe"
   ]
  },
  {
   "cell_type": "code",
   "execution_count": 10,
   "metadata": {},
   "outputs": [],
   "source": [
    "class MovieDataset(Dataset):\n",
    "    '''\n",
    "    Dataset class for movie ratings.\n",
    "    '''\n",
    "    def __init__(self, df):\n",
    "        '''\n",
    "        Initialise the dataset.\n",
    "        Args:\n",
    "            df (pd.DataFrame): DataFrame containing movie ratings.\n",
    "        '''\n",
    "        self.users = torch.tensor(df[\"userId\"].values, dtype=torch.long)\n",
    "        self.movies = torch.tensor(df[\"movieId\"].values, dtype=torch.long)\n",
    "        self.ratings = torch.tensor(df[\"rating\"].values, dtype=torch.float32)\n",
    "\n",
    "    def __len__(self):\n",
    "        '''\n",
    "        Returns:\n",
    "           size of ratings dataset\n",
    "        '''\n",
    "        return len(self.ratings)\n",
    "\n",
    "    def __getitem__(self, idx):\n",
    "        '''\n",
    "        Args: \n",
    "            idx (integer): Index of the data point.\n",
    "        Returns: \n",
    "            tuple containing specifc user, movie, and rating tensors\n",
    "        '''\n",
    "        return self.users[idx], self.movies[idx], self.ratings[idx]  # Returns individual tensor elements"
   ]
  },
  {
   "cell_type": "markdown",
   "metadata": {},
   "source": [
    "The following code will split the ratings dataset into pretraining data and finetuning data."
   ]
  },
  {
   "cell_type": "code",
   "execution_count": 11,
   "metadata": {},
   "outputs": [],
   "source": [
    "# Pretrain NCF on a large dataset\n",
    "pretrain_model = NCF(num_users, num_movies)  # Initialise model\n",
    "pretrain_criterion = nn.MSELoss()\n",
    "pretrain_optimiser = optim.Adam(pretrain_model.parameters(), lr=0.001)\n",
    "\n",
    "# Split into large dataset (80%) for pretraining and small dataset (20%) for fine-tuning\n",
    "train_size = int(0.8 * len(ratings))\n",
    "fine_tune_size = len(ratings) - train_size\n",
    "\n",
    "# Now split the DataFrame:\n",
    "from sklearn.model_selection import train_test_split\n",
    "train_df, fine_tune_df = train_test_split(ratings, test_size=0.2, random_state=42)\n",
    "\n",
    "# Split the dataset using indices instead of Subset objects\n",
    "from sklearn.model_selection import train_test_split\n",
    "\n",
    "train_df, fine_tune_df = train_test_split(ratings, test_size=0.2, random_state=42)\n"
   ]
  },
  {
   "cell_type": "code",
   "execution_count": 12,
   "metadata": {},
   "outputs": [
    {
     "name": "stdout",
     "output_type": "stream",
     "text": [
      "<class 'pandas.core.frame.DataFrame'> <class 'pandas.core.frame.DataFrame'>\n",
      "<class 'pandas.core.frame.DataFrame'>\n"
     ]
    }
   ],
   "source": [
    "print(type(train_df), type(fine_tune_df)) \n",
    "print(type(ratings))"
   ]
  },
  {
   "cell_type": "markdown",
   "metadata": {},
   "source": [
    "First, pretrain the model using a large dataset."
   ]
  },
  {
   "cell_type": "code",
   "execution_count": 13,
   "metadata": {},
   "outputs": [
    {
     "name": "stdout",
     "output_type": "stream",
     "text": [
      "Pretrain Epoch 1/5, Loss: 3.2937\n",
      "Pretrain Epoch 2/5, Loss: 1.0006\n",
      "Pretrain Epoch 3/5, Loss: 0.9085\n",
      "Pretrain Epoch 4/5, Loss: 0.8550\n",
      "Pretrain Epoch 5/5, Loss: 0.8177\n"
     ]
    }
   ],
   "source": [
    "# Create DataLoaders\n",
    "large_dataloader = DataLoader(MovieDataset(train_df), batch_size=512, shuffle=True)\n",
    "dataloader = DataLoader(MovieDataset(fine_tune_df), batch_size=256, shuffle=True)\n",
    "large_dataset, small_dataset = torch.utils.data.random_split(ratings, [train_size, fine_tune_size])\n",
    "\n",
    "epochs = 5  # Train for 5 epochs on a large dataset\n",
    "for epoch in range(epochs):\n",
    "    epoch_loss = 0\n",
    "    for users, movies, ratings in large_dataloader:  # Train on large dataset\n",
    "        pretrain_optimiser.zero_grad()\n",
    "        predictions = pretrain_model(users, movies)\n",
    "        loss = pretrain_criterion(predictions, ratings)\n",
    "        loss.backward()\n",
    "        pretrain_optimiser.step()\n",
    "        epoch_loss += loss.item()\n",
    "\n",
    "    print(f\"Pretrain Epoch {epoch+1}/{epochs}, Loss: {epoch_loss/len(large_dataloader):.4f}\")"
   ]
  },
  {
   "cell_type": "markdown",
   "metadata": {},
   "source": [
    "Now load pretrained model for use in finetuning, then adjust for frequent vs. infrequent users.\n",
    "\n",
    "Also freeze earlier layers (embedding layers) in order to prevent overfitting.\n",
    "\n",
    "Increase the learning rate for MLP layers."
   ]
  },
  {
   "cell_type": "code",
   "execution_count": 15,
   "metadata": {},
   "outputs": [
    {
     "name": "stdout",
     "output_type": "stream",
     "text": [
      "Fine-tune Epoch 1/15, Loss: 9.4465\n",
      "Fine-tune Epoch 2/15, Loss: 1.6925\n",
      "Fine-tune Epoch 3/15, Loss: 1.1916\n",
      "Fine-tune Epoch 4/15, Loss: 1.1413\n",
      "Fine-tune Epoch 5/15, Loss: 1.1070\n",
      "Unfroze embeddings at epoch 5\n",
      "Fine-tune Epoch 6/15, Loss: 1.0808\n",
      "Fine-tune Epoch 7/15, Loss: 1.0650\n",
      "Fine-tune Epoch 8/15, Loss: 1.0511\n",
      "Fine-tune Epoch 9/15, Loss: 1.0379\n",
      "Fine-tune Epoch 10/15, Loss: 1.0256\n",
      "Fine-tune Epoch 11/15, Loss: 1.0144\n",
      "Fine-tune Epoch 12/15, Loss: 1.0089\n",
      "Fine-tune Epoch 13/15, Loss: 1.0030\n",
      "Fine-tune Epoch 14/15, Loss: 0.9979\n",
      "Fine-tune Epoch 15/15, Loss: 0.9934\n"
     ]
    }
   ],
   "source": [
    "## fine-tuning code here\n",
    "# Load pretrained model for fine-tuning\n",
    "fine_tune_model = NCF(num_users, num_movies) \n",
    "fine_tune_criterion = nn.MSELoss()  # Define the loss function\n",
    "\n",
    "\n",
    "# use the original DataFrame to create dataloader (train_df in this case)\n",
    "for user_id, count in train_df[\"userId\"].value_counts().items():\n",
    "    if count < 10:  # Example threshold for infrequent users\n",
    "        fine_tune_model.user_embedding.weight.data[user_id] *= 0.5  # Scale down learning rate for them\n",
    "\n",
    "\n",
    "# Freeze earlier layers (embedding layers) (prevents overfitting)\n",
    "for param in fine_tune_model.user_embedding.parameters():\n",
    "    param.requires_grad = False\n",
    "for param in fine_tune_model.movie_embedding.parameters():\n",
    "    param.requires_grad = False\n",
    "\n",
    "embedding_params = list(fine_tune_model.user_embedding.parameters()) + list(fine_tune_model.movie_embedding.parameters())\n",
    "mlp_params = list(fine_tune_model.mlp.parameters())\n",
    "\n",
    "fine_tune_optimiser = optim.Adam([\n",
    "    {'params': embedding_params, 'lr': 0.0001},  # Low LR for embeddings\n",
    "    {'params': mlp_params, 'lr': 0.0005}         # Higher LR for MLP layers\n",
    "])\n",
    "scheduler = torch.optim.lr_scheduler.StepLR(fine_tune_optimiser, step_size=5, gamma=0.5)  # Reduce LR every 5 epochs\n",
    "\n",
    "epochs = 15  # Fine-tune for 10 epochs\n",
    "for epoch in range(epochs):\n",
    "    epoch_loss = 0\n",
    "    # Gradually Unfreeze Embeddings after 5 epochs\n",
    "    if epoch == 5:\n",
    "        for param in fine_tune_model.user_embedding.parameters():\n",
    "            param.requires_grad = True  # Unfreeze embeddings\n",
    "        for param in fine_tune_model.movie_embedding.parameters():\n",
    "            param.requires_grad = True  # Unfreeze embeddings\n",
    "        print(\"Unfroze embeddings at epoch 5\")\n",
    "      \n",
    "    \n",
    "    for users, movies, ratings in dataloader:\n",
    "        fine_tune_optimiser.zero_grad()\n",
    "        predictions = fine_tune_model(users, movies)\n",
    "        loss = fine_tune_criterion(predictions, ratings)\n",
    "        loss.backward()\n",
    "        fine_tune_optimiser.step()\n",
    "        epoch_loss += loss.item()\n",
    "\n",
    "    # Step the learning rate scheduler\n",
    "    scheduler.step()\n",
    "\n",
    "    print(f\"Fine-tune Epoch {epoch+1}/{epochs}, Loss: {epoch_loss/len(dataloader):.4f}\")"
   ]
  },
  {
   "cell_type": "code",
   "execution_count": 16,
   "metadata": {},
   "outputs": [
    {
     "data": {
      "image/png": "[encoded data removed]",
      "text/plain": [
       "<Figure size 432x288 with 1 Axes>"
      ]
     },
     "metadata": {
      "needs_background": "light"
     },
     "output_type": "display_data"
    }
   ],
   "source": [
    "# plot our pretraining vs. finetuning results\n",
    "plt.hist(train_df[\"rating\"], bins=5, alpha=0.5, label=\"Pretraining\")\n",
    "plt.hist(fine_tune_df[\"rating\"], bins=5, alpha=0.5, label=\"Fine-Tuning\")\n",
    "plt.legend()\n",
    "plt.xlabel(\"Rating\")\n",
    "plt.ylabel(\"Count\")\n",
    "plt.title(\"Rating Distribution in Pretraining vs. Fine-Tuning\")\n",
    "plt.show()"
   ]
  },
  {
   "cell_type": "code",
   "execution_count": null,
   "metadata": {},
   "outputs": [],
   "source": []
  }
 ],
 "metadata": {
  "kernelspec": {
   "display_name": "Python 3",
   "language": "python",
   "name": "python3"
  },
  "language_info": {
   "codemirror_mode": {
    "name": "ipython",
    "version": 3
   },
   "file_extension": ".py",
   "mimetype": "text/x-python",
   "name": "python",
   "nbconvert_exporter": "python",
   "pygments_lexer": "ipython3",
   "version": "3.8.5"
  }
 },
 "nbformat": 4,
 "nbformat_minor": 4
}
