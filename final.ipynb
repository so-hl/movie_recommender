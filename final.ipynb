{
 "cells": [
  {
   "cell_type": "markdown",
   "metadata": {},
   "source": [
    "# **moviematch**\n",
    "\n",
    "we decided to embark on this project to attempt implementing a recommendation system. \n",
    "\n",
    "this notebook implements three recommendation approaches:\n",
    "1. **Neural Collaborative Filtering (NCF)** - Learns user-item interactions through deep learning\n",
    "2. **Content-Based Filtering** - Recommends based on movie features (genres, tags, year)\n",
    "3. **Hybrid Model** - Combines both approaches for robust recommendations"
   ]
  },
  {
   "cell_type": "markdown",
   "metadata": {},
   "source": [
    "## **setup**"
   ]
  },
  {
   "cell_type": "code",
   "execution_count": 1,
   "metadata": {},
   "outputs": [],
   "source": [
    "# %% Import all required libraries\n",
    "import pandas as pd\n",
    "import numpy as np\n",
    "import torch\n",
    "import torchvision\n",
    "import torch.nn as nn\n",
    "import torch.optim as optim\n",
    "from torch.utils.data import Dataset, DataLoader\n",
    "from sklearn.model_selection import train_test_split\n",
    "from sklearn.metrics.pairwise import cosine_similarity\n",
    "from sklearn.feature_extraction.text import TfidfVectorizer\n",
    "from sklearn.preprocessing import MinMaxScaler\n",
    "import matplotlib.pyplot as plt\n",
    "import pickle\n",
    "import os\n",
    "from difflib import get_close_matches\n",
    "import warnings\n",
    "warnings.filterwarnings('ignore')"
   ]
  },
  {
   "cell_type": "code",
   "execution_count": 2,
   "metadata": {},
   "outputs": [
    {
     "name": "stdout",
     "output_type": "stream",
     "text": [
      "Ratings: 100,836 ratings from 610 users on 9,724 movies\n",
      "Movies: 87,585 movies with genres\n",
      "Tags: 2,000,072 tags applied to movies\n"
     ]
    }
   ],
   "source": [
    "# Load MovieLens data\n",
    "ratings = pd.read_csv(\"./data/ratings.csv\")\n",
    "movies = pd.read_csv(\"./data/movies.csv\")\n",
    "tags = pd.read_csv(\"./data/tags.csv\")\n",
    "\n",
    "print(f\"Ratings: {ratings.shape[0]:,} ratings from {ratings['userId'].nunique():,} users on {ratings['movieId'].nunique():,} movies\")\n",
    "print(f\"Movies: {movies.shape[0]:,} movies with genres\")\n",
    "print(f\"Tags: {tags.shape[0]:,} tags applied to movies\")"
   ]
  },
  {
   "cell_type": "markdown",
   "metadata": {},
   "source": [
    "## **ncf**"
   ]
  },
  {
   "cell_type": "markdown",
   "metadata": {},
   "source": [
    "NCF uses embeddings to represent users and movies in a latent space, then uses a Multi-Layer Perceptron (MLP) to predict ratings.\n",
    "\n",
    "**rationale**: Traditional matrix factorization assumes linear interactions. NCF can capture non-linear user-item relationships."
   ]
  },
  {
   "cell_type": "code",
   "execution_count": 3,
   "metadata": {},
   "outputs": [
    {
     "name": "stdout",
     "output_type": "stream",
     "text": [
      "Embedding dimensions: 610 users × 9,724 movies\n"
     ]
    }
   ],
   "source": [
    "# Prepare data for NCF\n",
    "ratings_ncf = ratings.drop(columns=[\"timestamp\"])\n",
    "\n",
    "# Create index mappings for embedding layers\n",
    "user_ids = ratings_ncf[\"userId\"].unique()\n",
    "movie_ids = ratings_ncf[\"movieId\"].unique()\n",
    "\n",
    "user2idx = {user: idx for idx, user in enumerate(user_ids)}\n",
    "movie2idx = {movie: idx for idx, movie in enumerate(movie_ids)}\n",
    "idx2user = {idx: user for user, idx in user2idx.items()}\n",
    "idx2movie = {idx: movie for movie, idx in movie2idx.items()}\n",
    "\n",
    "ratings_ncf[\"user_idx\"] = ratings_ncf[\"userId\"].map(user2idx)\n",
    "ratings_ncf[\"movie_idx\"] = ratings_ncf[\"movieId\"].map(movie2idx)\n",
    "\n",
    "num_users = len(user2idx)\n",
    "num_movies = len(movie2idx)\n",
    "\n",
    "print(f\"Embedding dimensions: {num_users:,} users × {num_movies:,} movies\")"
   ]
  },
  {
   "cell_type": "markdown",
   "metadata": {},
   "source": [
    "### ncf architecture\n",
    " \n",
    "- **embedding layers**: Map user/movie IDs to dense vectors\n",
    "- **MLP layers**: Learn non-linear interactions between user and movie embeddings\n",
    "- **dropout**: Prevent overfitting on sparse data"
   ]
  },
  {
   "cell_type": "code",
   "execution_count": 4,
   "metadata": {},
   "outputs": [
    {
     "name": "stdout",
     "output_type": "stream",
     "text": [
      "Rating statistics:\n",
      "Mean rating: 3.50\n",
      "Std rating: 1.04\n",
      "Min rating: 0.5\n",
      "Max rating: 5.0\n",
      "\n",
      "Rating distribution:\n",
      "rating\n",
      "0.5     1370\n",
      "1.0     2811\n",
      "1.5     1791\n",
      "2.0     7551\n",
      "2.5     5550\n",
      "3.0    20047\n",
      "3.5    13136\n",
      "4.0    26818\n",
      "4.5     8551\n",
      "5.0    13211\n",
      "Name: count, dtype: int64\n"
     ]
    }
   ],
   "source": [
    "print(\"Rating statistics:\")\n",
    "print(f\"Mean rating: {ratings['rating'].mean():.2f}\")\n",
    "print(f\"Std rating: {ratings['rating'].std():.2f}\")\n",
    "print(f\"Min rating: {ratings['rating'].min()}\")\n",
    "print(f\"Max rating: {ratings['rating'].max()}\")\n",
    "print(\"\\nRating distribution:\")\n",
    "print(ratings['rating'].value_counts().sort_index())"
   ]
  },
  {
   "cell_type": "code",
   "execution_count": 5,
   "metadata": {},
   "outputs": [],
   "source": [
    "class NCF(nn.Module):\n",
    "    def __init__(self, num_users, num_movies, embedding_dim=50, hidden_dims=[128, 64, 32]):\n",
    "        super(NCF, self).__init__()\n",
    "        \n",
    "        # Embedding layers\n",
    "        self.user_embedding = nn.Embedding(num_users, embedding_dim)\n",
    "        self.movie_embedding = nn.Embedding(num_movies, embedding_dim)\n",
    "        \n",
    "        # Better initialization - very important!\n",
    "        nn.init.xavier_uniform_(self.user_embedding.weight)\n",
    "        nn.init.xavier_uniform_(self.movie_embedding.weight)\n",
    "        \n",
    "        # Build MLP layers\n",
    "        layers = []\n",
    "        input_dim = embedding_dim * 2\n",
    "        \n",
    "        for dim in hidden_dims:\n",
    "            layers.append(nn.Linear(input_dim, dim))\n",
    "            layers.append(nn.ReLU())\n",
    "            layers.append(nn.BatchNorm1d(dim))  # Add batch normalization\n",
    "            layers.append(nn.Dropout(0.2))\n",
    "            input_dim = dim\n",
    "        \n",
    "        # Output layer - predict rating between 0.5 and 5.0\n",
    "        layers.append(nn.Linear(input_dim, 1))\n",
    "        self.mlp = nn.Sequential(*layers)\n",
    "        \n",
    "        # Output activation to constrain predictions to valid rating range\n",
    "        self.output_activation = nn.Sigmoid()\n",
    "        \n",
    "    def forward(self, user_ids, movie_ids):\n",
    "        user_emb = self.user_embedding(user_ids)\n",
    "        movie_emb = self.movie_embedding(movie_ids)\n",
    "        \n",
    "        x = torch.cat([user_emb, movie_emb], dim=-1)\n",
    "        x = self.mlp(x).squeeze()\n",
    "        \n",
    "        # Scale output to rating range [0.5, 5.0]\n",
    "        x = self.output_activation(x) * 4.5 + 0.5\n",
    "        \n",
    "        return x"
   ]
  },
  {
   "cell_type": "code",
   "execution_count": 6,
   "metadata": {},
   "outputs": [],
   "source": [
    "class MovieDataset(Dataset):\n",
    "    def __init__(self, df):\n",
    "        self.users = torch.tensor(df[\"user_idx\"].values, dtype=torch.long)\n",
    "        self.movies = torch.tensor(df[\"movie_idx\"].values, dtype=torch.long)\n",
    "        self.ratings = torch.tensor(df[\"rating\"].values, dtype=torch.float32)\n",
    "\n",
    "    def __len__(self):\n",
    "        return len(self.ratings)\n",
    "\n",
    "    def __getitem__(self, idx):\n",
    "        return self.users[idx], self.movies[idx], self.ratings[idx]"
   ]
  },
  {
   "cell_type": "code",
   "execution_count": 7,
   "metadata": {},
   "outputs": [],
   "source": [
    "def train_epoch(model, loader, optimizer, criterion, device):\n",
    "    model.train()\n",
    "    total_loss = 0\n",
    "    for users, movies, ratings in loader:\n",
    "        users, movies, ratings = users.to(device), movies.to(device), ratings.to(device)\n",
    "        \n",
    "        optimizer.zero_grad()\n",
    "        predictions = model(users, movies)\n",
    "        loss = criterion(predictions, ratings)\n",
    "        loss.backward()\n",
    "        optimizer.step()\n",
    "        \n",
    "        total_loss += loss.item()\n",
    "    \n",
    "    return total_loss / len(loader)\n",
    "\n",
    "def evaluate(model, loader, criterion, device):\n",
    "    model.eval()\n",
    "    total_loss = 0\n",
    "    with torch.no_grad():\n",
    "        for users, movies, ratings in loader:\n",
    "            users, movies, ratings = users.to(device), movies.to(device), ratings.to(device)\n",
    "            predictions = model(users, movies)\n",
    "            loss = criterion(predictions, ratings)\n",
    "            total_loss += loss.item()\n",
    "    \n",
    "    return total_loss / len(loader)"
   ]
  },
  {
   "cell_type": "markdown",
   "metadata": {},
   "source": [
    "### train ncf model\n",
    " \n",
    "**split strategy**: 80% train, 10% validation, 10% test\n",
    "- train: learn parameters\n",
    "- validation: select best model\n",
    "- test: final evaluation"
   ]
  },
  {
   "cell_type": "code",
   "execution_count": 8,
   "metadata": {},
   "outputs": [
    {
     "name": "stdout",
     "output_type": "stream",
     "text": [
      "Using device: cpu\n",
      "Train size: 72601\n",
      "Validation size: 8067\n",
      "Test size: 20168\n"
     ]
    }
   ],
   "source": [
    "device = torch.device('cuda' if torch.cuda.is_available() else 'cpu')\n",
    "print(f\"Using device: {device}\")\n",
    "\n",
    "# Create NEW model (not loading anything yet)\n",
    "model = NCF(num_users, num_movies).to(device)\n",
    "\n",
    "# Use a lower learning rate\n",
    "optimizer = optim.Adam(model.parameters(), lr=0.0001)\n",
    "scheduler = optim.lr_scheduler.ReduceLROnPlateau(optimizer, 'min', patience=3, factor=0.5)\n",
    "\n",
    "# Split data\n",
    "train_df, test_df = train_test_split(ratings_ncf, test_size=0.2, random_state=42)\n",
    "train_df, val_df = train_test_split(train_df, test_size=0.1, random_state=42)\n",
    "\n",
    "print(f\"Train size: {len(train_df)}\")\n",
    "print(f\"Validation size: {len(val_df)}\")\n",
    "print(f\"Test size: {len(test_df)}\")\n",
    "\n",
    "# Create dataloaders\n",
    "train_loader = DataLoader(MovieDataset(train_df), batch_size=1024, shuffle=True)\n",
    "val_loader = DataLoader(MovieDataset(val_df), batch_size=1024, shuffle=False)\n",
    "test_loader = DataLoader(MovieDataset(test_df), batch_size=1024, shuffle=False)\n",
    "\n",
    "# Define criterion\n",
    "criterion = nn.MSELoss()\n"
   ]
  },
  {
   "cell_type": "code",
   "execution_count": 9,
   "metadata": {},
   "outputs": [
    {
     "name": "stdout",
     "output_type": "stream",
     "text": [
      "Epoch 2/50, Train Loss: 1.4441, Val Loss: 1.2010, Best Val: 1.1940\n",
      "Epoch 4/50, Train Loss: 1.2934, Val Loss: 1.1173, Best Val: 1.1173\n",
      "Epoch 6/50, Train Loss: 1.1860, Val Loss: 1.0458, Best Val: 1.0458\n",
      "Epoch 8/50, Train Loss: 1.0726, Val Loss: 0.9588, Best Val: 0.9588\n",
      "Epoch 10/50, Train Loss: 0.9677, Val Loss: 0.8983, Best Val: 0.8983\n",
      "Epoch 12/50, Train Loss: 0.8810, Val Loss: 0.8531, Best Val: 0.8531\n",
      "Epoch 14/50, Train Loss: 0.8157, Val Loss: 0.8292, Best Val: 0.8292\n",
      "Epoch 16/50, Train Loss: 0.7665, Val Loss: 0.8090, Best Val: 0.8090\n",
      "Epoch 18/50, Train Loss: 0.7275, Val Loss: 0.7918, Best Val: 0.7918\n",
      "Epoch 20/50, Train Loss: 0.6916, Val Loss: 0.7825, Best Val: 0.7825\n",
      "Epoch 22/50, Train Loss: 0.6618, Val Loss: 0.7764, Best Val: 0.7764\n",
      "Epoch 24/50, Train Loss: 0.6373, Val Loss: 0.7739, Best Val: 0.7739\n",
      "Epoch 26/50, Train Loss: 0.6076, Val Loss: 0.7737, Best Val: 0.7737\n",
      "Epoch 28/50, Train Loss: 0.5910, Val Loss: 0.7724, Best Val: 0.7724\n",
      "Epoch 30/50, Train Loss: 0.5659, Val Loss: 0.7704, Best Val: 0.7704\n",
      "Epoch 32/50, Train Loss: 0.5477, Val Loss: 0.7812, Best Val: 0.7704\n",
      "Epoch 34/50, Train Loss: 0.5334, Val Loss: 0.7886, Best Val: 0.7704\n",
      "Epoch 36/50, Train Loss: 0.5128, Val Loss: 0.7923, Best Val: 0.7704\n",
      "Epoch 38/50, Train Loss: 0.5039, Val Loss: 0.7940, Best Val: 0.7704\n",
      "Epoch 40/50, Train Loss: 0.4990, Val Loss: 0.7966, Best Val: 0.7704\n",
      "Early stopping at epoch 40\n"
     ]
    }
   ],
   "source": [
    "# Create directory for models\n",
    "import os\n",
    "os.makedirs('./models', exist_ok=True)\n",
    "\n",
    "# Train with early stopping\n",
    "train_losses = []\n",
    "val_losses = []\n",
    "best_val_loss = float('inf')\n",
    "patience_counter = 0\n",
    "patience = 10\n",
    "\n",
    "epochs = 50  # More epochs but with early stopping\n",
    "for epoch in range(epochs):\n",
    "    train_loss = train_epoch(model, train_loader, optimizer, criterion, device)\n",
    "    val_loss = evaluate(model, val_loader, criterion, device)\n",
    "    \n",
    "    train_losses.append(train_loss)\n",
    "    val_losses.append(val_loss)\n",
    "    \n",
    "    scheduler.step(val_loss)\n",
    "    \n",
    "    # Save best model\n",
    "    if val_loss < best_val_loss:\n",
    "        best_val_loss = val_loss\n",
    "        torch.save(model.state_dict(), './models/best_ncf_model.pth')\n",
    "        patience_counter = 0    \n",
    "    else:\n",
    "        patience_counter += 1\n",
    "    \n",
    "    # Print progress\n",
    "    if (epoch + 1) % 2 == 0:\n",
    "        print(f\"Epoch {epoch+1}/{epochs}, Train Loss: {train_loss:.4f}, Val Loss: {val_loss:.4f}, Best Val: {best_val_loss:.4f}\")\n",
    "    \n",
    "    # Early stopping\n",
    "    if patience_counter >= patience:\n",
    "        print(f\"Early stopping at epoch {epoch+1}\")\n",
    "        break"
   ]
  },
  {
   "cell_type": "code",
   "execution_count": 10,
   "metadata": {},
   "outputs": [
    {
     "data": {
      "image/png": "[encoded data removed]",
      "text/plain": [
       "<Figure size 1200x500 with 2 Axes>"
      ]
     },
     "metadata": {},
     "output_type": "display_data"
    }
   ],
   "source": [
    "# Plot Training Curves\n",
    "plt.figure(figsize=(12, 5))\n",
    "plt.subplot(1, 2, 1)\n",
    "plt.plot(train_losses, label='Train Loss')\n",
    "plt.plot(val_losses, label='Validation Loss')\n",
    "plt.xlabel('Epoch')\n",
    "plt.ylabel('Loss (MSE)')\n",
    "plt.title('NCF Training Progress')\n",
    "plt.legend()\n",
    "plt.grid(True, alpha=0.3)\n",
    "\n",
    "plt.subplot(1, 2, 2)\n",
    "plt.plot(train_losses, label='Train Loss', alpha=0.7)\n",
    "plt.plot(val_losses, label='Validation Loss', alpha=0.7)\n",
    "plt.xlabel('Epoch')\n",
    "plt.ylabel('Loss (MSE)')\n",
    "plt.title('NCF Training Progress (Log Scale)')\n",
    "plt.yscale('log')\n",
    "plt.legend()\n",
    "plt.grid(True, alpha=0.3)\n",
    "\n",
    "plt.tight_layout()\n",
    "plt.show()"
   ]
  },
  {
   "cell_type": "code",
   "execution_count": 11,
   "metadata": {},
   "outputs": [
    {
     "name": "stdout",
     "output_type": "stream",
     "text": [
      "\n",
      "Sample predictions vs actual:\n",
      "User 609, Movie 9071: Predicted=4.01, Actual=4.0\n",
      "User 599, Movie 862: Predicted=3.06, Actual=3.0\n",
      "User 273, Movie 2906: Predicted=3.81, Actual=3.5\n",
      "User 539, Movie 753: Predicted=4.37, Actual=4.0\n",
      "User 100, Movie 1608: Predicted=4.11, Actual=4.0\n",
      "User 54, Movie 1036: Predicted=2.73, Actual=3.0\n",
      "User 109, Movie 3641: Predicted=3.05, Actual=3.0\n",
      "User 204, Movie 774: Predicted=3.97, Actual=4.0\n",
      "User 598, Movie 9255: Predicted=2.93, Actual=3.0\n",
      "User 413, Movie 28: Predicted=4.46, Actual=4.0\n"
     ]
    }
   ],
   "source": [
    "# Sanity Check\n",
    "model.eval()\n",
    "sample_size = 10\n",
    "sample_users = torch.tensor(train_df['user_idx'].iloc[:sample_size].values, dtype=torch.long).to(device)\n",
    "sample_movies = torch.tensor(train_df['movie_idx'].iloc[:sample_size].values, dtype=torch.long).to(device)\n",
    "sample_actual = train_df['rating'].iloc[:sample_size].values\n",
    "\n",
    "with torch.no_grad():\n",
    "    sample_predictions = model(sample_users, sample_movies).cpu().numpy()\n",
    "\n",
    "print(\"\\nSample predictions vs actual:\")\n",
    "for i in range(sample_size):\n",
    "    print(f\"User {sample_users[i].item()}, Movie {sample_movies[i].item()}: \"\n",
    "          f\"Predicted={sample_predictions[i]:.2f}, Actual={sample_actual[i]:.1f}\")\n"
   ]
  },
  {
   "cell_type": "markdown",
   "metadata": {},
   "source": [
    "### ncf recommendation function"
   ]
  },
  {
   "cell_type": "code",
   "execution_count": 12,
   "metadata": {},
   "outputs": [
    {
     "name": "stdout",
     "output_type": "stream",
     "text": [
      "\n",
      "NCF Recommendations for user 1:\n",
      "       movieId                                              title  \\\n",
      "884        905                       It Happened One Night (1934)   \n",
      "1186      1217                                         Ran (1985)   \n",
      "2640      2732                Jules and Jim (Jules et Jim) (1961)   \n",
      "3121      3214                             American Flyers (1985)   \n",
      "9019     26840                        Sonatine (Sonachine) (1993)   \n",
      "17822    93022                                 Miss Nobody (2010)   \n",
      "19354   100507                                 21 and Over (2013)   \n",
      "20862   107771                      Only Lovers Left Alive (2013)   \n",
      "28555   131724  The Jinx: The Life and Deaths of Robert Durst ...   \n",
      "40985   159817                                Planet Earth (2006)   \n",
      "\n",
      "                          genres  \n",
      "884               Comedy|Romance  \n",
      "1186                   Drama|War  \n",
      "2640               Drama|Romance  \n",
      "3121                       Drama  \n",
      "9019   Action|Comedy|Crime|Drama  \n",
      "17822               Comedy|Crime  \n",
      "19354                     Comedy  \n",
      "20862       Drama|Horror|Romance  \n",
      "28555                Documentary  \n",
      "40985                Documentary  \n"
     ]
    }
   ],
   "source": [
    "# %% Recommendation Function\n",
    "def get_ncf_recommendations(user_id, model, num_movies, movie2idx, idx2movie, movies_df, top_k=10):\n",
    "    \"\"\"\n",
    "    Generate top-k movie recommendations for a user using the trained NCF model.\n",
    "    \n",
    "    Rationale: Score all movies for the user and return highest predicted ratings.\n",
    "    \"\"\"\n",
    "    model.eval()\n",
    "    \n",
    "    if user_id not in user2idx:\n",
    "        return None\n",
    "    \n",
    "    user_idx = user2idx[user_id]\n",
    "    \n",
    "    # Create tensors for all movies\n",
    "    all_movie_indices = torch.tensor(list(range(num_movies)), dtype=torch.long).to(device)\n",
    "    user_indices = torch.full((num_movies,), user_idx, dtype=torch.long).to(device)\n",
    "    \n",
    "    # Predict ratings for all movies\n",
    "    with torch.no_grad():\n",
    "        predictions = model(user_indices, all_movie_indices)\n",
    "    \n",
    "    # Get top-k movies\n",
    "    _, top_indices = torch.topk(predictions, top_k)\n",
    "    top_movie_ids = [idx2movie[idx.item()] for idx in top_indices]\n",
    "    \n",
    "    # Return movie details\n",
    "    recommendations = movies_df[movies_df['movieId'].isin(top_movie_ids)]\n",
    "    return recommendations[['movieId', 'title', 'genres']].head(top_k)\n",
    "\n",
    "# Test NCF recommendations\n",
    "example_user = ratings['userId'].iloc[0]\n",
    "ncf_recs = get_ncf_recommendations(example_user, model, num_movies, movie2idx, idx2movie, movies)\n",
    "print(f\"\\nNCF Recommendations for user {example_user}:\")\n",
    "print(ncf_recs)"
   ]
  },
  {
   "cell_type": "markdown",
   "metadata": {},
   "source": [
    "## **content-based filtering**\n",
    "\n",
    "uses movie features (genres, tags, year) to find similar movies based on what users have liked before.\n",
    " \n",
    "**rationale**: solves cold start problem and provides explainable recommendations based on movie characteristics.\n"
   ]
  },
  {
   "cell_type": "code",
   "execution_count": 13,
   "metadata": {},
   "outputs": [
    {
     "name": "stdout",
     "output_type": "stream",
     "text": [
      "Sample movie content:\n",
      "                     title                                            content\n",
      "0         Toy Story (1995)  Adventure Animation Children Comedy Fantasy ch...\n",
      "1           Jumanji (1995)  Adventure Children Fantasy Robin Williams fant...\n",
      "2  Grumpier Old Men (1995)  Comedy Romance comedinha de velhinhos engraÃƒÂ...\n"
     ]
    }
   ],
   "source": [
    "# Prepare movie content features\n",
    "tags_grouped = tags.groupby('movieId')['tag'].apply(lambda x: ' '.join(x.astype(str).unique())).reset_index()\n",
    "movies_content = movies.merge(tags_grouped, on='movieId', how='left')\n",
    "movies_content['tag'] = movies_content['tag'].fillna('')\n",
    "\n",
    "# Extract year from title\n",
    "movies_content['year'] = movies_content['title'].str.extract(r'\\((\\d{4})\\)')\n",
    "\n",
    "# Combine all text features\n",
    "movies_content['content'] = (\n",
    "    movies_content['genres'].str.replace('|', ' ') + ' ' + \n",
    "    movies_content['tag'] + ' ' + \n",
    "    movies_content['year'].fillna('').astype(str)\n",
    ")\n",
    "\n",
    "print(\"Sample movie content:\")\n",
    "print(movies_content[['title', 'content']].head(3))"
   ]
  },
  {
   "cell_type": "markdown",
   "metadata": {},
   "source": [
    "### tf-idf vectorization\n",
    "\n",
    "**TF-IDF** (Term Frequency-Inverse Document Frequency) converts text to numerical vectors:\n",
    "- **TF**: how often a word appears in a document\n",
    "- **IDF**: how rare the word is across all documents\n",
    "- **Bigrams**: captures two-word phrases for better context"
   ]
  },
  {
   "cell_type": "code",
   "execution_count": 14,
   "metadata": {},
   "outputs": [
    {
     "name": "stdout",
     "output_type": "stream",
     "text": [
      "TF-IDF matrix shape: (87585, 3000)\n",
      "Sample features: ['01' '01 11' '02' '02 11' '03' '03 11' '05' '05 11' '06' '06 11']\n"
     ]
    }
   ],
   "source": [
    "# Create TF-IDF matrix\n",
    "tfidf = TfidfVectorizer(\n",
    "    stop_words='english',\n",
    "    max_features=3000,\n",
    "    ngram_range=(1, 2)  # Use both unigrams and bigrams\n",
    ")\n",
    "tfidf_matrix = tfidf.fit_transform(movies_content['content'])\n",
    "\n",
    "print(f\"TF-IDF matrix shape: {tfidf_matrix.shape}\")\n",
    "print(f\"Sample features: {tfidf.get_feature_names_out()[:10]}\")\n"
   ]
  },
  {
   "cell_type": "code",
   "execution_count": 15,
   "metadata": {},
   "outputs": [
    {
     "name": "stdout",
     "output_type": "stream",
     "text": [
      "Processed 1000/87585 movies...\n",
      "Processed 2000/87585 movies...\n",
      "Processed 3000/87585 movies...\n",
      "Processed 4000/87585 movies...\n",
      "Processed 5000/87585 movies...\n",
      "Processed 6000/87585 movies...\n",
      "Processed 7000/87585 movies...\n",
      "Processed 8000/87585 movies...\n",
      "Processed 9000/87585 movies...\n",
      "Processed 10000/87585 movies...\n",
      "Processed 11000/87585 movies...\n",
      "Processed 12000/87585 movies...\n",
      "Processed 13000/87585 movies...\n",
      "Processed 14000/87585 movies...\n",
      "Processed 15000/87585 movies...\n",
      "Processed 16000/87585 movies...\n",
      "Processed 17000/87585 movies...\n",
      "Processed 18000/87585 movies...\n",
      "Processed 19000/87585 movies...\n",
      "Processed 20000/87585 movies...\n",
      "Processed 21000/87585 movies...\n",
      "Processed 22000/87585 movies...\n",
      "Processed 23000/87585 movies...\n",
      "Processed 24000/87585 movies...\n",
      "Processed 25000/87585 movies...\n",
      "Processed 26000/87585 movies...\n",
      "Processed 27000/87585 movies...\n",
      "Processed 28000/87585 movies...\n",
      "Processed 29000/87585 movies...\n",
      "Processed 30000/87585 movies...\n",
      "Processed 31000/87585 movies...\n",
      "Processed 32000/87585 movies...\n",
      "Processed 33000/87585 movies...\n",
      "Processed 34000/87585 movies...\n",
      "Processed 35000/87585 movies...\n",
      "Processed 36000/87585 movies...\n",
      "Processed 37000/87585 movies...\n",
      "Processed 38000/87585 movies...\n",
      "Processed 39000/87585 movies...\n",
      "Processed 40000/87585 movies...\n",
      "Processed 41000/87585 movies...\n",
      "Processed 42000/87585 movies...\n",
      "Processed 43000/87585 movies...\n",
      "Processed 44000/87585 movies...\n",
      "Processed 45000/87585 movies...\n",
      "Processed 46000/87585 movies...\n",
      "Processed 47000/87585 movies...\n",
      "Processed 48000/87585 movies...\n",
      "Processed 49000/87585 movies...\n",
      "Processed 50000/87585 movies...\n",
      "Processed 51000/87585 movies...\n",
      "Processed 52000/87585 movies...\n",
      "Processed 53000/87585 movies...\n",
      "Processed 54000/87585 movies...\n",
      "Processed 55000/87585 movies...\n",
      "Processed 56000/87585 movies...\n",
      "Processed 57000/87585 movies...\n",
      "Processed 58000/87585 movies...\n",
      "Processed 59000/87585 movies...\n",
      "Processed 60000/87585 movies...\n",
      "Processed 61000/87585 movies...\n",
      "Processed 62000/87585 movies...\n",
      "Processed 63000/87585 movies...\n",
      "Processed 64000/87585 movies...\n",
      "Processed 65000/87585 movies...\n",
      "Processed 66000/87585 movies...\n",
      "Processed 67000/87585 movies...\n",
      "Processed 68000/87585 movies...\n",
      "Processed 69000/87585 movies...\n",
      "Processed 70000/87585 movies...\n",
      "Processed 71000/87585 movies...\n",
      "Processed 72000/87585 movies...\n",
      "Processed 73000/87585 movies...\n",
      "Processed 74000/87585 movies...\n",
      "Processed 75000/87585 movies...\n",
      "Processed 76000/87585 movies...\n",
      "Processed 77000/87585 movies...\n",
      "Processed 78000/87585 movies...\n",
      "Processed 79000/87585 movies...\n",
      "Processed 80000/87585 movies...\n",
      "Processed 81000/87585 movies...\n",
      "Processed 82000/87585 movies...\n",
      "Processed 83000/87585 movies...\n",
      "Processed 84000/87585 movies...\n",
      "Processed 85000/87585 movies...\n",
      "Processed 86000/87585 movies...\n",
      "Processed 87000/87585 movies...\n",
      "Processed 87585/87585 movies...\n",
      "Similarity matrix shape: (87585, 87585)\n"
     ]
    }
   ],
   "source": [
    "# Calculate cosine similarity between all movies\n",
    "if 'cosine_sim' not in locals():\n",
    "    n_movies = tfidf_matrix.shape[0]\n",
    "    cosine_sim = np.zeros((n_movies, n_movies), dtype=np.float32)  # Use float32 to save memory\n",
    "    \n",
    "    # Process in chunks of 1000 movies at a time\n",
    "    chunk_size = 1000\n",
    "    for i in range(0, n_movies, chunk_size):\n",
    "        end_i = min(i + chunk_size, n_movies)\n",
    "        for j in range(0, n_movies, chunk_size):\n",
    "            end_j = min(j + chunk_size, n_movies)\n",
    "            cosine_sim[i:end_i, j:end_j] = cosine_similarity(\n",
    "                tfidf_matrix[i:end_i], \n",
    "                tfidf_matrix[j:end_j]\n",
    "            ).astype(np.float32)\n",
    "        print(f\"Processed {end_i}/{n_movies} movies...\")\n",
    "    \n",
    "    print(f\"Similarity matrix shape: {cosine_sim.shape}\")"
   ]
  },
  {
   "cell_type": "markdown",
   "metadata": {},
   "source": [
    "> **note**  \n",
    "the above method takes longer, but uses less memory at any given time. it was used because the previous method resulted in the kernel crashing."
   ]
  },
  {
   "cell_type": "markdown",
   "metadata": {},
   "source": [
    "### content-based recommendation functions"
   ]
  },
  {
   "cell_type": "code",
   "execution_count": 16,
   "metadata": {},
   "outputs": [],
   "source": [
    "def get_similar_movies(movie_title, movies_df, cosine_sim, top_n=10):\n",
    "    \"\"\"\n",
    "    Find movies similar to a given movie based on content features.\n",
    "    \"\"\"\n",
    "    # Find movie in dataset\n",
    "    matches = movies_df[movies_df['title'].str.contains(movie_title, case=False, na=False)]\n",
    "    \n",
    "    if matches.empty:\n",
    "        # Try fuzzy matching for typos\n",
    "        all_titles = movies_df['title'].tolist()\n",
    "        close_matches = get_close_matches(movie_title, all_titles, n=3, cutoff=0.6)\n",
    "        \n",
    "        if close_matches:\n",
    "            print(f\"Did you mean: {close_matches[0]}?\")\n",
    "            matches = movies_df[movies_df['title'] == close_matches[0]]\n",
    "        else:\n",
    "            return None\n",
    "    \n",
    "    # Get similarity scores\n",
    "    idx = matches.index[0]\n",
    "    sim_scores = list(enumerate(cosine_sim[idx]))\n",
    "    sim_scores = sorted(sim_scores, key=lambda x: x[1], reverse=True)[1:top_n+1]\n",
    "    \n",
    "    # Get movie details\n",
    "    movie_indices = [i[0] for i in sim_scores]\n",
    "    return movies_df.iloc[movie_indices][['movieId', 'title', 'genres']]\n"
   ]
  },
  {
   "cell_type": "code",
   "execution_count": 17,
   "metadata": {},
   "outputs": [],
   "source": [
    "def get_content_recommendations(user_id, ratings_df, movies_df, cosine_sim, top_n=10):\n",
    "    \"\"\"\n",
    "    Generate recommendations based on movies the user has liked (rated ≥ 4.0).\n",
    "    \n",
    "    Rationale: Aggregate similarity scores from all highly-rated movies to find \n",
    "    movies with similar content that the user hasn't seen yet.\n",
    "    \"\"\"\n",
    "    user_ratings = ratings_df[ratings_df['userId'] == user_id]\n",
    "    \n",
    "    if user_ratings.empty:\n",
    "        return None\n",
    "    \n",
    "    # Get movies the user liked (4+ stars)\n",
    "    liked_movies = user_ratings[user_ratings['rating'] >= 4.0]['movieId'].values\n",
    "    \n",
    "    if len(liked_movies) == 0:\n",
    "        # If no highly rated movies, use top rated movies\n",
    "        liked_movies = user_ratings.nlargest(5, 'rating')['movieId'].values\n",
    "    \n",
    "    # Calculate aggregate similarity scores\n",
    "    scores = np.zeros(len(movies_df))\n",
    "    \n",
    "    for movie_id in liked_movies:\n",
    "        if movie_id in movies_df['movieId'].values:\n",
    "            idx = movies_df[movies_df['movieId'] == movie_id].index[0]\n",
    "            scores += cosine_sim[idx]\n",
    "    \n",
    "    # Normalize by number of liked movies\n",
    "    scores = scores / len(liked_movies)\n",
    "    \n",
    "    # Remove already rated movies\n",
    "    rated_indices = movies_df[movies_df['movieId'].isin(user_ratings['movieId'])].index\n",
    "    scores[rated_indices] = -1\n",
    "    \n",
    "    # Get top recommendations\n",
    "    top_indices = np.argsort(scores)[::-1][:top_n]\n",
    "    return movies_df.iloc[top_indices][['movieId', 'title', 'genres']]"
   ]
  },
  {
   "cell_type": "code",
   "execution_count": 18,
   "metadata": {},
   "outputs": [
    {
     "name": "stdout",
     "output_type": "stream",
     "text": [
      "Movies similar to 'Toy Story':\n"
     ]
    },
    {
     "name": "stdout",
     "output_type": "stream",
     "text": [
      "       movieId                              title  \\\n",
      "3021      3114                 Toy Story 2 (1999)   \n",
      "60708   201588                 Toy Story 4 (2019)   \n",
      "14815    78499                 Toy Story 3 (2010)   \n",
      "24090   120474  Toy Story That Time Forgot (2014)   \n",
      "73549   239474                   Lamp Life (2020)   \n",
      "\n",
      "                                                 genres  \n",
      "3021        Adventure|Animation|Children|Comedy|Fantasy  \n",
      "60708               Adventure|Animation|Children|Comedy  \n",
      "14815  Adventure|Animation|Children|Comedy|Fantasy|IMAX  \n",
      "24090                                Animation|Children  \n",
      "73549                         Animation|Children|Comedy  \n",
      "\n",
      "Content-based recommendations for user 1:\n",
      "       movieId                                              title  \\\n",
      "5841      5952      Lord of the Rings: The Two Towers, The (2002)   \n",
      "4888      4993  Lord of the Rings: The Fellowship of the Ring,...   \n",
      "7029      7153  Lord of the Rings: The Return of the King, The...   \n",
      "581        589                  Terminator 2: Judgment Day (1991)   \n",
      "840        858                              Godfather, The (1972)   \n",
      "25097   122904                                    Deadpool (2016)   \n",
      "314        318                   Shawshank Redemption, The (1994)   \n",
      "16728    88140          Captain America: The First Avenger (2011)   \n",
      "1190      1221                     Godfather: Part II, The (1974)   \n",
      "21945   112852                     Guardians of the Galaxy (2014)   \n",
      "\n",
      "                                     genres  \n",
      "5841                      Adventure|Fantasy  \n",
      "4888                      Adventure|Fantasy  \n",
      "7029         Action|Adventure|Drama|Fantasy  \n",
      "581                           Action|Sci-Fi  \n",
      "840                             Crime|Drama  \n",
      "25097        Action|Adventure|Comedy|Sci-Fi  \n",
      "314                             Crime|Drama  \n",
      "16728  Action|Adventure|Sci-Fi|Thriller|War  \n",
      "1190                            Crime|Drama  \n",
      "21945               Action|Adventure|Sci-Fi  \n"
     ]
    }
   ],
   "source": [
    "# Test content-based filtering\n",
    "print(\"Movies similar to 'Toy Story':\")\n",
    "similar = get_similar_movies('Toy Story', movies_content, cosine_sim, top_n=5)\n",
    "print(similar)\n",
    "\n",
    "print(f\"\\nContent-based recommendations for user {example_user}:\")\n",
    "content_recs = get_content_recommendations(example_user, ratings, movies_content, cosine_sim)\n",
    "print(content_recs)"
   ]
  },
  {
   "cell_type": "markdown",
   "metadata": {},
   "source": [
    "## **hybrid recommender system**"
   ]
  },
  {
   "cell_type": "markdown",
   "metadata": {},
   "source": [
    "combines NCF and content-based approaches to leverage both collaborative and content signals.\n",
    "\n",
    "**advantages**:\n",
    "- NCF captures collaborative patterns (users with similar tastes)\n",
    "- content-based handles cold start and provides diversity\n",
    "- weighted combination allows tuning the balance"
   ]
  },
  {
   "cell_type": "code",
   "execution_count": 19,
   "metadata": {},
   "outputs": [],
   "source": [
    "class HybridRecommender:\n",
    "    def __init__(self, ncf_model, movies_df, cosine_sim, ratings_df, \n",
    "                 user2idx, movie2idx, idx2movie, device='cpu'):\n",
    "        self.ncf_model = ncf_model\n",
    "        self.movies = movies_df\n",
    "        self.cosine_sim = cosine_sim\n",
    "        self.ratings = ratings_df\n",
    "        self.user2idx = user2idx\n",
    "        self.movie2idx = movie2idx\n",
    "        self.idx2movie = idx2movie\n",
    "        self.device = device\n",
    "        \n",
    "    def get_recommendations(self, user_id, top_n=10, alpha=0.6):\n",
    "        \"\"\"\n",
    "        Generate hybrid recommendations.\n",
    "        \n",
    "        Args:\n",
    "            user_id: User ID\n",
    "            top_n: Number of recommendations\n",
    "            alpha: Weight for NCF (0-1). Higher = more collaborative, lower = more content-based\n",
    "        \n",
    "        Rationale: \n",
    "        - Get 2x recommendations from each method\n",
    "        - Combine with weighted scores based on ranking position\n",
    "        - Return top-n from combined list\n",
    "        \"\"\"\n",
    "        # Get recommendations from both methods\n",
    "        ncf_recs = get_ncf_recommendations(\n",
    "            user_id, self.ncf_model, len(self.movie2idx), \n",
    "            self.movie2idx, self.idx2movie, self.movies, top_k=top_n*2\n",
    "        )\n",
    "        \n",
    "        content_recs = get_content_recommendations(\n",
    "            user_id, self.ratings, self.movies, self.cosine_sim, top_n=top_n*2\n",
    "        )\n",
    "        \n",
    "        # Handle edge cases\n",
    "        if ncf_recs is None and content_recs is None:\n",
    "            return pd.DataFrame(columns=['movieId', 'title', 'genres', 'recommendation_score'])\n",
    "        elif ncf_recs is None:\n",
    "            return content_recs.head(top_n)\n",
    "        elif content_recs is None:\n",
    "            return ncf_recs.head(top_n)\n",
    "        \n",
    "        # Score based on ranking position\n",
    "        scores = {}\n",
    "        \n",
    "        # NCF scores (position-based ranking)\n",
    "        for i, movie_id in enumerate(ncf_recs['movieId'].values):\n",
    "            # Higher ranked items get higher scores\n",
    "            scores[movie_id] = alpha * (len(ncf_recs) - i) / len(ncf_recs)\n",
    "        \n",
    "        # Content scores\n",
    "        for i, movie_id in enumerate(content_recs['movieId'].values):\n",
    "            if movie_id not in scores:\n",
    "                scores[movie_id] = 0\n",
    "            scores[movie_id] += (1 - alpha) * (len(content_recs) - i) / len(content_recs)\n",
    "        \n",
    "        # Sort by combined score\n",
    "        top_movies = sorted(scores.items(), key=lambda x: x[1], reverse=True)[:top_n]\n",
    "        top_movie_ids = [m[0] for m in top_movies]\n",
    "        top_scores = [m[1] for m in top_movies]\n",
    "        \n",
    "        # Create results dataframe\n",
    "        results = self.movies[self.movies['movieId'].isin(top_movie_ids)].copy()\n",
    "        results['recommendation_score'] = results['movieId'].map(dict(zip(top_movie_ids, top_scores)))\n",
    "        results = results.sort_values('recommendation_score', ascending=False)\n",
    "        \n",
    "        return results[['movieId', 'title', 'genres', 'recommendation_score']]"
   ]
  },
  {
   "cell_type": "code",
   "execution_count": 20,
   "metadata": {},
   "outputs": [
    {
     "name": "stdout",
     "output_type": "stream",
     "text": [
      "Hybrid recommendations for user 1 (alpha=0.6):\n",
      "      movieId                                              title  \\\n",
      "884       905                       It Happened One Night (1934)   \n",
      "1186     1217                                         Ran (1985)   \n",
      "2640     2732                Jules and Jim (Jules et Jim) (1961)   \n",
      "3003     3096                              My Man Godfrey (1957)   \n",
      "3121     3214                             American Flyers (1985)   \n",
      "3539     3637                 Vagabond (Sans toit ni loi) (1985)   \n",
      "5841     5952      Lord of the Rings: The Two Towers, The (2002)   \n",
      "3575     3675                             White Christmas (1954)   \n",
      "4888     4993  Lord of the Rings: The Fellowship of the Ring,...   \n",
      "6884     7008  Last Tango in Paris (Ultimo tango a Parigi) (1...   \n",
      "\n",
      "                      genres  recommendation_score  \n",
      "884           Comedy|Romance              0.600000  \n",
      "1186               Drama|War              0.566667  \n",
      "2640           Drama|Romance              0.533333  \n",
      "3003                  Comedy              0.500000  \n",
      "3121                   Drama              0.466667  \n",
      "3539                   Drama              0.433333  \n",
      "5841       Adventure|Fantasy              0.400000  \n",
      "3575  Comedy|Musical|Romance              0.400000  \n",
      "4888       Adventure|Fantasy              0.380000  \n",
      "6884           Drama|Romance              0.366667  \n"
     ]
    }
   ],
   "source": [
    "# Initialize hybrid recommender\n",
    "hybrid_recommender = HybridRecommender(\n",
    "    ncf_model=model,\n",
    "    movies_df=movies_content,\n",
    "    cosine_sim=cosine_sim,\n",
    "    ratings_df=ratings,\n",
    "    user2idx=user2idx,\n",
    "    movie2idx=movie2idx,\n",
    "    idx2movie=idx2movie,\n",
    "    device=device\n",
    ")\n",
    "\n",
    "# Test hybrid recommendations\n",
    "print(f\"Hybrid recommendations for user {example_user} (alpha=0.6):\")\n",
    "hybrid_recs = hybrid_recommender.get_recommendations(example_user, top_n=10, alpha=0.6)\n",
    "print(hybrid_recs)\n"
   ]
  },
  {
   "cell_type": "markdown",
   "metadata": {},
   "source": [
    "### compare different alpha values\n",
    "\n",
    "alpha controls the balance between collaborative and content-based:\n",
    "- **α = 1.0**: Pure NCF (collaborative)\n",
    "- **α = 0.0**: Pure content-based\n",
    "- **α = 0.6**: Balanced hybrid (default)"
   ]
  },
  {
   "cell_type": "code",
   "execution_count": 21,
   "metadata": {},
   "outputs": [
    {
     "name": "stdout",
     "output_type": "stream",
     "text": [
      "Testing different alpha values:\n",
      "\n"
     ]
    },
    {
     "name": "stdout",
     "output_type": "stream",
     "text": [
      "Alpha = 0.0 (NCF: 0%, Content: 100%):\n",
      "                                                    title                         genres\n",
      "            Lord of the Rings: The Two Towers, The (2002)              Adventure|Fantasy\n",
      "Lord of the Rings: The Fellowship of the Ring, The (2001)              Adventure|Fantasy\n",
      "    Lord of the Rings: The Return of the King, The (2003) Action|Adventure|Drama|Fantasy\n",
      "                        Terminator 2: Judgment Day (1991)                  Action|Sci-Fi\n",
      "                                    Godfather, The (1972)                    Crime|Drama\n",
      "\n",
      "Alpha = 0.3 (NCF: 30%, Content: 70%):\n",
      "                                                    title                         genres\n",
      "            Lord of the Rings: The Two Towers, The (2002)              Adventure|Fantasy\n",
      "Lord of the Rings: The Fellowship of the Ring, The (2001)              Adventure|Fantasy\n",
      "    Lord of the Rings: The Return of the King, The (2003) Action|Adventure|Drama|Fantasy\n",
      "                        Terminator 2: Judgment Day (1991)                  Action|Sci-Fi\n",
      "                                    Godfather, The (1972)                    Crime|Drama\n",
      "\n",
      "Alpha = 0.6 (NCF: 60%, Content: 40%):\n",
      "                                        title            genres\n",
      "                 It Happened One Night (1934)    Comedy|Romance\n",
      "                                   Ran (1985)         Drama|War\n",
      "          Jules and Jim (Jules et Jim) (1961)     Drama|Romance\n",
      "                       American Flyers (1985)             Drama\n",
      "Lord of the Rings: The Two Towers, The (2002) Adventure|Fantasy\n",
      "\n",
      "Alpha = 0.9 (NCF: 90%, Content: 10%):\n",
      "                              title                    genres\n",
      "       It Happened One Night (1934)            Comedy|Romance\n",
      "                         Ran (1985)                 Drama|War\n",
      "Jules and Jim (Jules et Jim) (1961)             Drama|Romance\n",
      "             American Flyers (1985)                     Drama\n",
      "        Sonatine (Sonachine) (1993) Action|Comedy|Crime|Drama\n",
      "\n"
     ]
    }
   ],
   "source": [
    "print(\"Testing different alpha values:\\n\")\n",
    "\n",
    "for alpha in [0.0, 0.3, 0.6, 0.9]:\n",
    "    recs = hybrid_recommender.get_recommendations(example_user, top_n=5, alpha=alpha)\n",
    "    print(f\"Alpha = {alpha} (NCF: {alpha*100:.0f}%, Content: {(1-alpha)*100:.0f}%):\")\n",
    "    print(recs[['title', 'genres']].to_string(index=False))\n",
    "    print()"
   ]
  },
  {
   "cell_type": "markdown",
   "metadata": {},
   "source": [
    "## **save models for deployment**"
   ]
  },
  {
   "cell_type": "code",
   "execution_count": 22,
   "metadata": {},
   "outputs": [
    {
     "name": "stdout",
     "output_type": "stream",
     "text": [
      "NCF model saved\n",
      "Movies content saved\n",
      "TF-IDF vectorizer saved\n",
      "TF-IDF matrix saved\n",
      "\n",
      "All models saved successfully in ./models/ directory\n",
      "Note: Cosine similarity will be computed on-demand to save space\n"
     ]
    }
   ],
   "source": [
    "import os\n",
    "from scipy import sparse\n",
    "\n",
    "# Create models directory if it doesn't exist\n",
    "os.makedirs('./models', exist_ok=True)\n",
    "\n",
    "# Save NCF model and components\n",
    "torch.save({\n",
    "    'model_state_dict': model.state_dict(),\n",
    "    'user2idx': user2idx,\n",
    "    'movie2idx': movie2idx,\n",
    "    'idx2user': idx2user,\n",
    "    'idx2movie': idx2movie,\n",
    "    'num_users': num_users,\n",
    "    'num_movies': num_movies\n",
    "}, './models/ncf_complete.pth')\n",
    "print(\"NCF model saved\")\n",
    "\n",
    "# Save movies content\n",
    "movies_content.to_csv('./models/movies_content.csv', index=False)\n",
    "print(\"Movies content saved\")\n",
    "\n",
    "# Save TF-IDF vectorizer\n",
    "with open('./models/tfidf_vectorizer.pkl', 'wb') as f:\n",
    "    pickle.dump(tfidf, f)\n",
    "print(\"TF-IDF vectorizer saved\")\n",
    "\n",
    "# Save the TF-IDF matrix (sparse format, much smaller)\n",
    "sparse.save_npz('./models/tfidf_matrix.npz', tfidf_matrix)\n",
    "print(\"TF-IDF matrix saved\")\n",
    "\n",
    "print(\"\\nAll models saved successfully in ./models/ directory\")\n",
    "print(\"Note: Cosine similarity will be computed on-demand to save space\")"
   ]
  }
 ],
 "metadata": {
  "kernelspec": {
   "display_name": "base",
   "language": "python",
   "name": "python3"
  },
  "language_info": {
   "codemirror_mode": {
    "name": "ipython",
    "version": 3
   },
   "file_extension": ".py",
   "mimetype": "text/x-python",
   "name": "python",
   "nbconvert_exporter": "python",
   "pygments_lexer": "ipython3",
   "version": "3.12.7"
  }
 },
 "nbformat": 4,
 "nbformat_minor": 2
}
